{
 "cells": [
  {
   "cell_type": "code",
   "execution_count": 2,
   "metadata": {},
   "outputs": [],
   "source": [
    "import re\n",
    "\n",
    "def remove_latin(text):\n",
    "    # first remove all regular latin word characters [a-zA-Z0-9_] (similar to \\w)\n",
    "    # and also extended latin characters [\\u00A0-\\u024F] as these include\n",
    "    # latin characters with accents.  Be aware this includes other symbols.\n",
    "    no_latin = re.sub(r'[a-zA-Z0-9_\\u00A0-\\u024F]','', text).strip()\n",
    "    # now remove empty brackets\n",
    "    no_empty_brackets = re.sub(r'\\(\\s*\\)','', no_latin).strip()\n",
    "    # now remove leading & traling hyphens, semicolons or commas\n",
    "    no_leadingtrailing_punct = re.sub(r'(^[\\-\\;\\,]+|[\\-\\;\\,]+$)','', no_empty_brackets).strip()\n",
    "    # now search to see whether the string starts and ends in a bracket (but only both lead AND trailing).\n",
    "    test_leadingtrailing_brackets = re.search(r'(?<=^\\().*(?=\\)$)', no_leadingtrailing_punct)\n",
    "    # if search is successful, set output to interior, otherwise set it to the previous variable\n",
    "    if test_leadingtrailing_brackets != None:\n",
    "        output = test_leadingtrailing_brackets.group(0)\n",
    "    else:\n",
    "        output = no_leadingtrailing_punct\n",
    "        \n",
    "    return output"
   ]
  },
  {
   "cell_type": "code",
   "execution_count": 3,
   "metadata": {},
   "outputs": [],
   "source": [
    "import re\n",
    "\n",
    "def remove_non_latin(text):\n",
    "    # first strip out non latin characters \n",
    "    no_non_latin = re.sub(r'[^\\u0001-\\u024F]','', text).strip()\n",
    "    # now remove empty brackets\n",
    "    no_empty_brackets = re.sub(r'\\(\\s*\\)','', no_non_latin).strip()\n",
    "    # now remove leading & traling hyphens, semicolons or commas\n",
    "    no_leadingtrailing_punct = re.sub(r'(^[\\-\\;\\,]+|[\\-\\;\\,]+$)','', no_empty_brackets).strip()\n",
    "    # now search to see whether the string starts and ends in a bracket (but only both lead AND trailing).\n",
    "    test_leadingtrailing_brackets = re.search(r'(?<=^\\().*(?=\\)$)', no_leadingtrailing_punct)\n",
    "    # if search is successful, set output to interior, otherwise set it to the previous variable\n",
    "    if test_leadingtrailing_brackets != None:\n",
    "        output = test_leadingtrailing_brackets.group(0)\n",
    "    else:\n",
    "        output = no_leadingtrailing_punct\n",
    "    \n",
    "    return output"
   ]
  },
  {
   "cell_type": "code",
   "execution_count": 8,
   "metadata": {},
   "outputs": [],
   "source": [
    "test_str = 'Pan Be (North) ပန်းဘဲ (မြောက်)'"
   ]
  },
  {
   "cell_type": "code",
   "execution_count": 9,
   "metadata": {},
   "outputs": [
    {
     "name": "stdout",
     "output_type": "stream",
     "text": [
      "ပန်းဘဲ (မြောက်)\n"
     ]
    }
   ],
   "source": [
    "print(remove_latin(test_str))"
   ]
  },
  {
   "cell_type": "code",
   "execution_count": 10,
   "metadata": {},
   "outputs": [
    {
     "name": "stdout",
     "output_type": "stream",
     "text": [
      "Pan Be (North)\n"
     ]
    }
   ],
   "source": [
    "print(remove_non_latin(test_str))"
   ]
  }
 ],
 "metadata": {
  "kernelspec": {
   "display_name": "Python 3",
   "language": "python",
   "name": "python3"
  },
  "language_info": {
   "codemirror_mode": {
    "name": "ipython",
    "version": 3
   },
   "file_extension": ".py",
   "mimetype": "text/x-python",
   "name": "python",
   "nbconvert_exporter": "python",
   "pygments_lexer": "ipython3",
   "version": "3.6.5"
  }
 },
 "nbformat": 4,
 "nbformat_minor": 2
}
